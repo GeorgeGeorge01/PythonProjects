{
 "cells": [
  {
   "cell_type": "code",
   "execution_count": 1,
   "id": "aeacdb55",
   "metadata": {},
   "outputs": [],
   "source": [
    "import os, shutil"
   ]
  },
  {
   "cell_type": "code",
   "execution_count": 2,
   "id": "dab5299d",
   "metadata": {},
   "outputs": [],
   "source": [
    "# replace \\(back slashes) with /(forward slashes) in the path \n",
    "path = r\"C:/Users/dell/Desktop/File Arg/\""
   ]
  },
  {
   "cell_type": "code",
   "execution_count": 3,
   "id": "e213d884",
   "metadata": {},
   "outputs": [
    {
     "data": {
      "text/plain": [
       "['csv files',\n",
       " 'Death on the Nile (2022) (NetNaija.com).srt',\n",
       " 'image files',\n",
       " 'Morbius (2022) [HDRip] (NetNaija.com).srt',\n",
       " 'movies',\n",
       " 'movies files',\n",
       " 'RRR (2022) (NetNaija.com).srt',\n",
       " 'sub titles',\n",
       " 'The Northman (2022) (NetNaija.com).srt',\n",
       " 'The Valet (2022) (NetNaija.com).srt']"
      ]
     },
     "execution_count": 3,
     "metadata": {},
     "output_type": "execute_result"
    }
   ],
   "source": [
    "os.listdir(path)"
   ]
  },
  {
   "cell_type": "code",
   "execution_count": 4,
   "id": "c6577ade",
   "metadata": {},
   "outputs": [],
   "source": [
    "# show all file within path \n",
    "file_name = os.listdir(path)"
   ]
  },
  {
   "cell_type": "code",
   "execution_count": 5,
   "id": "d9244da3",
   "metadata": {},
   "outputs": [
    {
     "data": {
      "text/plain": [
       "True"
      ]
     },
     "execution_count": 5,
     "metadata": {},
     "output_type": "execute_result"
    }
   ],
   "source": [
    "#check if path already exist \n",
    "os.path.exists(path)"
   ]
  },
  {
   "cell_type": "code",
   "execution_count": 10,
   "id": "1d4d9f46",
   "metadata": {},
   "outputs": [],
   "source": [
    "# to make a folder for each file \n",
    "folder_names = ['csv files','image files', 'movies files','sub titles files']\n",
    "\n",
    "for loop in range (0,4):\n",
    "    if not os.path.exists(path + folder_names[loop]):\n",
    "        print(path + folder_names[loop])\n",
    "        os.makedirs(path + folder_names[loop])"
   ]
  },
  {
   "cell_type": "code",
   "execution_count": 11,
   "id": "fc03bee6",
   "metadata": {},
   "outputs": [],
   "source": [
    "#move files into respective folders \n",
    "\n",
    "for file in file_name:\n",
    "    if '.csv' in file and not os.path.exists(path + 'csv files/'+ file):\n",
    "        shutil.move(path + file, path + 'csv files/'+ file)\n",
    "    elif '.JPG' in file and not os.path.exists(path + 'image files/'+ file):\n",
    "        shutil.move(path + file, path + 'image files/'+ file)\n",
    "    elif '.mp4' in file and not os.path.exists(path + 'movies files/'+ file):\n",
    "        shutil.move(path + file, path + 'movies files/'+ file)  \n",
    "    elif '.srt' in file and not os.path.exists(path + 'sub titles files/'+ file):\n",
    "        shutil.move(path + file, path + 'sub titles files/'+ file) \n"
   ]
  },
  {
   "cell_type": "raw",
   "id": "90bbd84b",
   "metadata": {},
   "source": [
    "import os\n",
    "import shutil\n",
    "\n",
    "path = 'C:/Users/dell/Desktop/File Arg/'\n",
    "\n",
    "for file in file_name:\n",
    "    if '.csv' in file.lower() and not os.path.exists(path + 'csv files/' + file):\n",
    "        if not os.path.exists(path + 'csv files/'):\n",
    "            os.makedirs(path + 'csv files/')\n",
    "        shutil.move(path + file, path + 'csv files/' + file)\n",
    "        \n",
    "    if '.jpg' in file.lower() and not os.path.exists(path + 'image files/' + file):\n",
    "        if not os.path.exists(path + 'image files/'):\n",
    "            os.makedirs(path + 'image files/')\n",
    "        shutil.move(path + file, path + 'image files/' + file)\n",
    "        \n",
    "    if '.mp4' in file.lower() and not os.path.exists(path + 'movies files/' + file):\n",
    "        if not os.path.exists(path + 'movies files/'):\n",
    "            os.makedirs(path + 'movies files/')\n",
    "        shutil.move(path + file, path + 'movies files/' + file)\n"
   ]
  },
  {
   "cell_type": "code",
   "execution_count": null,
   "id": "eb60b6f5",
   "metadata": {},
   "outputs": [],
   "source": []
  }
 ],
 "metadata": {
  "kernelspec": {
   "display_name": "Python 3 (ipykernel)",
   "language": "python",
   "name": "python3"
  },
  "language_info": {
   "codemirror_mode": {
    "name": "ipython",
    "version": 3
   },
   "file_extension": ".py",
   "mimetype": "text/x-python",
   "name": "python",
   "nbconvert_exporter": "python",
   "pygments_lexer": "ipython3",
   "version": "3.10.9"
  }
 },
 "nbformat": 4,
 "nbformat_minor": 5
}
